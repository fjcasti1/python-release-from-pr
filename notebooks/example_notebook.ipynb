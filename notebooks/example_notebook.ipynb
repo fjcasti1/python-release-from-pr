{
 "cells": [
  {
   "cell_type": "code",
   "execution_count": 1,
   "metadata": {},
   "outputs": [],
   "source": [
    "import emoji\n",
    "import numpy as np\n",
    "from my_helper_package.math import scalars as scalar_math\n",
    "from my_helper_package.math import vectors as vector_math"
   ]
  },
  {
   "cell_type": "code",
   "execution_count": 2,
   "metadata": {},
   "outputs": [
    {
     "name": "stdout",
     "output_type": "stream",
     "text": [
      "\u001b[38;21m  my_helper_package.utils.logging | INFO | Adding scalars\u001b[0m\n",
      "ℹ️ Scalar math: 3 + 7 = 10\n",
      "\u001b[38;21m  my_helper_package.utils.logging | INFO | Subtracting scalars\u001b[0m\n",
      "ℹ️ Scalar math: 3 - 7 = -4\n",
      "\u001b[38;21m  my_helper_package.utils.logging | INFO | Multiplying scalars\u001b[0m\n",
      "ℹ️ Scalar math: 3 * 7 = 21\n",
      "\u001b[38;21m  my_helper_package.utils.logging | INFO | Dividing scalars\u001b[0m\n",
      "ℹ️ Scalar math: 3 / 7 = 0.42857142857142855\n"
     ]
    }
   ],
   "source": [
    "info_em = emoji.emojize(\":information:\")\n",
    "s_1 = 3\n",
    "s_2 = 7\n",
    "print(f\"{info_em} Scalar math: {s_1} + {s_2} = {scalar_math.add(s_1, s_2)}\")\n",
    "print(f\"{info_em} Scalar math: {s_1} - {s_2} = {scalar_math.subtract(s_1, s_2)}\")\n",
    "print(f\"{info_em} Scalar math: {s_1} * {s_2} = {scalar_math.multiply(s_1, s_2)}\")\n",
    "print(f\"{info_em} Scalar math: {s_1} / {s_2} = {scalar_math.divide(s_1, s_2)}\")"
   ]
  },
  {
   "cell_type": "code",
   "execution_count": 3,
   "metadata": {},
   "outputs": [
    {
     "name": "stdout",
     "output_type": "stream",
     "text": [
      "\u001b[38;21m  my_helper_package.utils.logging | INFO | Adding vectors\u001b[0m\n",
      "ℹ️ Vector math: [1 2 3] + [ 4  5 -3] = [5 7 0]\n",
      "\u001b[38;21m  my_helper_package.utils.logging | INFO | Subtracting vectors\u001b[0m\n",
      "ℹ️ Vector math: [1 2 3] - [ 4  5 -3] = [-3 -3  6]\n",
      "\u001b[38;21m  my_helper_package.utils.logging | INFO | Multiplying vectors (component-wise)\u001b[0m\n",
      "ℹ️ Vector math: [1 2 3] * [ 4  5 -3] = [ 4 10 -9]\n",
      "\u001b[38;21m  my_helper_package.utils.logging | INFO | Dividing vectors (component-wise)\u001b[0m\n",
      "ℹ️ Vector math: [1 2 3] / [ 4  5 -3] = [ 0.25  0.4  -1.  ]\n",
      "\u001b[38;21m  my_helper_package.utils.logging | INFO | Computing dot product of vectors\u001b[0m\n",
      "ℹ️ Vector math: [1 2 3] . [ 4  5 -3] = 5\n"
     ]
    }
   ],
   "source": [
    "v_1 = np.array([1, 2, 3])\n",
    "v_2 = np.array([4, 5, -3])\n",
    "print(f\"{info_em} Vector math: {v_1} + {v_2} = {vector_math.add(v_1, v_2)}\")\n",
    "print(f\"{info_em} Vector math: {v_1} - {v_2} = {vector_math.subtract(v_1, v_2)}\")\n",
    "print(f\"{info_em} Vector math: {v_1} * {v_2} = {vector_math.multiply(v_1, v_2)}\")\n",
    "print(f\"{info_em} Vector math: {v_1} / {v_2} = {vector_math.divide(v_1, v_2)}\")\n",
    "print(f\"{info_em} Vector math: {v_1} . {v_2} = {vector_math.dot_prod(v_1, v_2)}\")"
   ]
  }
 ],
 "metadata": {
  "kernelspec": {
   "display_name": "kiko-onboarding",
   "language": "python",
   "name": "python3"
  },
  "language_info": {
   "codemirror_mode": {
    "name": "ipython",
    "version": 3
   },
   "file_extension": ".py",
   "mimetype": "text/x-python",
   "name": "python",
   "nbconvert_exporter": "python",
   "pygments_lexer": "ipython3",
   "version": "3.10.11"
  },
  "orig_nbformat": 4
 },
 "nbformat": 4,
 "nbformat_minor": 2
}
